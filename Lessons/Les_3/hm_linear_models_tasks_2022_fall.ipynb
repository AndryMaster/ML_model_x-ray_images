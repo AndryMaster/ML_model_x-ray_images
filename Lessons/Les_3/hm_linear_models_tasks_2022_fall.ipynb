{
 "cells": [
  {
   "cell_type": "markdown",
   "metadata": {},
   "source": [
    "# Домашнее задание - линейная регрессия"
   ]
  },
  {
   "cell_type": "code",
   "execution_count": 1,
   "metadata": {
    "collapsed": false,
    "ExecuteTime": {
     "end_time": "2024-03-03T16:32:54.805693Z",
     "start_time": "2024-03-03T16:32:53.584078Z"
    }
   },
   "outputs": [],
   "source": [
    "import numpy as np\n",
    "import pandas as pd\n",
    "import matplotlib.pyplot as plt\n",
    "\n",
    "import sklearn\n",
    "from sklearn.preprocessing import (MinMaxScaler, QuantileTransformer, RobustScaler)\n",
    "from sklearn.model_selection import train_test_split\n",
    "from sklearn.linear_model import (LinearRegression, RidgeClassifier, ElasticNet, LogisticRegression, SGDClassifier, PassiveAggressiveClassifier)"
   ]
  },
  {
   "cell_type": "markdown",
   "metadata": {},
   "source": [
    "### Работа с признаками (8 баллов)"
   ]
  },
  {
   "cell_type": "markdown",
   "metadata": {},
   "source": [
    "Скачайте датасет из материалов к уроку или по ссылке https://raw.githubusercontent.com/jupiterzhuo/travel-insurance/master/travel%20insurance.csv \n",
    "\n",
    "\n",
    "Описание признаков:\n",
    "\n",
    "* Agency — название страхового агентства\n",
    "* Agency Type — тип страхового агентства\n",
    "* Distribution Channel — канал продвижения страхового агентства\n",
    "* Product Name — название страхового продукта\n",
    "* Duration — длительность поездки (количество дней)\n",
    "* Destination — направление поездки\n",
    "* Net Sales — сумма продаж \n",
    "* Commission (in value) — комиссия страхового агентства\n",
    "* Gender — пол застрахованного\n",
    "* Age — возраст застрахованного\n",
    "\n",
    "Ответ:\n",
    "* Claim — потребовалась ли страховая выплата: «да» — 1, «нет» — 0"
   ]
  },
  {
   "cell_type": "markdown",
   "metadata": {},
   "source": [
    "Обработайте пропущенные значения и примените написанные функции onehot_encode() и minmax_scale().\n",
    "\n",
    "**Подсказка**: маску для категориальных признаков можно сделать фильтром cat_features_mask = (df.dtypes == \"object\").values"
   ]
  },
  {
   "cell_type": "markdown",
   "metadata": {
    "collapsed": false
   },
   "source": [
    "#### Открытие DataFrame "
   ]
  },
  {
   "cell_type": "code",
   "execution_count": 2,
   "metadata": {
    "ExecuteTime": {
     "end_time": "2024-03-03T16:32:55.150288Z",
     "start_time": "2024-03-03T16:32:55.099737Z"
    }
   },
   "outputs": [],
   "source": [
    "df = pd.read_csv('travel insurance.csv')"
   ]
  },
  {
   "cell_type": "markdown",
   "metadata": {
    "collapsed": false
   },
   "source": [
    "#### Обработка выбросов и создание нормального распределения"
   ]
  },
  {
   "cell_type": "code",
   "execution_count": 3,
   "metadata": {
    "collapsed": false,
    "ExecuteTime": {
     "end_time": "2024-03-03T16:32:56.494783Z",
     "start_time": "2024-03-03T16:32:56.446173Z"
    }
   },
   "outputs": [
    {
     "name": "stdout",
     "output_type": "stream",
     "text": [
      "Agency                   object\n",
      "Agency Type              object\n",
      "Distribution Channel     object\n",
      "Product Name             object\n",
      "Claim                    object\n",
      "Duration                  int64\n",
      "Destination              object\n",
      "Net Sales               float64\n",
      "Commision (in value)    float64\n",
      "Gender                   object\n",
      "Age                       int64\n",
      "dtype: object [False False False False False  True False  True  True False  True]\n"
     ]
    }
   ],
   "source": [
    "float_features_mask = (df.dtypes != \"object\").values\n",
    "float_columns = df.columns[float_features_mask]\n",
    "print(df.dtypes, float_features_mask)\n",
    "\n",
    "scaler1 = MinMaxScaler(feature_range=(-1, 1))  # Bad\n",
    "scaler2 = RobustScaler(quantile_range=(25, 75))  # Norm\n",
    "scaler3 = QuantileTransformer(output_distribution=\"uniform\", random_state=42)  # Better\n",
    "scaler4 = QuantileTransformer(output_distribution=\"normal\", random_state=42)  # Best\n",
    "\n",
    "main_scaler = scaler4\n",
    "for col in float_columns:\n",
    "    # print(df[col], np.min(df[col]), np.mean(df[col]), np.max(df[col]))\n",
    "    df[col] = main_scaler.fit_transform(np.reshape(df[col], [-1, 1]))\n",
    "    # print(df[col], np.min(df[col]), np.mean(df[col]), np.max(df[col]))"
   ]
  },
  {
   "cell_type": "markdown",
   "metadata": {
    "collapsed": false
   },
   "source": [
    "#### Доработка и оптимизация фрейма"
   ]
  },
  {
   "cell_type": "code",
   "execution_count": 4,
   "metadata": {
    "ExecuteTime": {
     "end_time": "2024-03-03T15:56:51.553369Z",
     "start_time": "2024-03-03T15:56:51.524759Z"
    },
    "collapsed": false
   },
   "outputs": [
    {
     "name": "stdout",
     "output_type": "stream",
     "text": [
      "Agency                    16\n",
      "Agency Type                2\n",
      "Distribution Channel       2\n",
      "Product Name              26\n",
      "Claim                      2\n",
      "Duration                 453\n",
      "Net Sales               1134\n",
      "Commision (in value)    1032\n",
      "Gender                     2\n",
      "Age                       89\n",
      "dtype: int64\n"
     ]
    }
   ],
   "source": [
    "# Перевод колонки ответа на нужный тип данных\n",
    "df['Claim'] = np.where(df['Claim'] == 'Yes', 1, 0)\n",
    "\n",
    "# Удаление колонки, т.к. слишком много занчений для OneHotEncoding\n",
    "# Это практически не отражается на точности и сильно `облегчает` модель (~4 раза меньше параметров объекта)\n",
    "# print(df.nunique())\n",
    "df = df.drop(columns=[\"Destination\"])\n",
    "print(df.nunique())"
   ]
  },
  {
   "cell_type": "markdown",
   "metadata": {
    "collapsed": false
   },
   "source": [
    "Анализ корреляции числовых признаков"
   ]
  },
  {
   "cell_type": "code",
   "execution_count": 5,
   "metadata": {
    "ExecuteTime": {
     "end_time": "2024-03-03T15:57:31.186977Z",
     "start_time": "2024-03-03T15:57:31.163659Z"
    },
    "collapsed": false
   },
   "outputs": [
    {
     "data": {
      "text/html": [
       "<div>\n",
       "<style scoped>\n",
       "    .dataframe tbody tr th:only-of-type {\n",
       "        vertical-align: middle;\n",
       "    }\n",
       "\n",
       "    .dataframe tbody tr th {\n",
       "        vertical-align: top;\n",
       "    }\n",
       "\n",
       "    .dataframe thead th {\n",
       "        text-align: right;\n",
       "    }\n",
       "</style>\n",
       "<table border=\"1\" class=\"dataframe\">\n",
       "  <thead>\n",
       "    <tr style=\"text-align: right;\">\n",
       "      <th></th>\n",
       "      <th>Claim</th>\n",
       "      <th>Duration</th>\n",
       "      <th>Net Sales</th>\n",
       "      <th>Commision (in value)</th>\n",
       "      <th>Age</th>\n",
       "    </tr>\n",
       "  </thead>\n",
       "  <tbody>\n",
       "    <tr>\n",
       "      <th>Claim</th>\n",
       "      <td>1.000000</td>\n",
       "      <td>0.064987</td>\n",
       "      <td>0.103355</td>\n",
       "      <td>0.091077</td>\n",
       "      <td>-0.021841</td>\n",
       "    </tr>\n",
       "    <tr>\n",
       "      <th>Duration</th>\n",
       "      <td>0.064987</td>\n",
       "      <td>1.000000</td>\n",
       "      <td>0.317339</td>\n",
       "      <td>0.099532</td>\n",
       "      <td>-0.035039</td>\n",
       "    </tr>\n",
       "    <tr>\n",
       "      <th>Net Sales</th>\n",
       "      <td>0.103355</td>\n",
       "      <td>0.317339</td>\n",
       "      <td>1.000000</td>\n",
       "      <td>0.203336</td>\n",
       "      <td>0.042432</td>\n",
       "    </tr>\n",
       "    <tr>\n",
       "      <th>Commision (in value)</th>\n",
       "      <td>0.091077</td>\n",
       "      <td>0.099532</td>\n",
       "      <td>0.203336</td>\n",
       "      <td>1.000000</td>\n",
       "      <td>0.161464</td>\n",
       "    </tr>\n",
       "    <tr>\n",
       "      <th>Age</th>\n",
       "      <td>-0.021841</td>\n",
       "      <td>-0.035039</td>\n",
       "      <td>0.042432</td>\n",
       "      <td>0.161464</td>\n",
       "      <td>1.000000</td>\n",
       "    </tr>\n",
       "  </tbody>\n",
       "</table>\n",
       "</div>"
      ],
      "text/plain": [
       "                         Claim  Duration  Net Sales  Commision (in value)  \\\n",
       "Claim                 1.000000  0.064987   0.103355              0.091077   \n",
       "Duration              0.064987  1.000000   0.317339              0.099532   \n",
       "Net Sales             0.103355  0.317339   1.000000              0.203336   \n",
       "Commision (in value)  0.091077  0.099532   0.203336              1.000000   \n",
       "Age                  -0.021841 -0.035039   0.042432              0.161464   \n",
       "\n",
       "                           Age  \n",
       "Claim                -0.021841  \n",
       "Duration             -0.035039  \n",
       "Net Sales             0.042432  \n",
       "Commision (in value)  0.161464  \n",
       "Age                   1.000000  "
      ]
     },
     "execution_count": 5,
     "metadata": {},
     "output_type": "execute_result"
    }
   ],
   "source": [
    "df.corr(min_periods=1, numeric_only=True)  # Корреляция с числовыми фичами"
   ]
  },
  {
   "cell_type": "markdown",
   "metadata": {
    "collapsed": false
   },
   "source": [
    "#### Создание OneHotEncoding"
   ]
  },
  {
   "cell_type": "code",
   "execution_count": 6,
   "metadata": {
    "ExecuteTime": {
     "end_time": "2024-03-03T15:57:35.153181Z",
     "start_time": "2024-03-03T15:57:35.107077Z"
    },
    "collapsed": false
   },
   "outputs": [
    {
     "name": "stdout",
     "output_type": "stream",
     "text": [
      "Claim                                                  int32\n",
      "Duration                                             float64\n",
      "Net Sales                                            float64\n",
      "Commision (in value)                                 float64\n",
      "Age                                                  float64\n",
      "Agency_ADM                                           float64\n",
      "Agency_ART                                           float64\n",
      "Agency_C2B                                           float64\n",
      "Agency_CBH                                           float64\n",
      "Agency_CCR                                           float64\n",
      "Agency_CSR                                           float64\n",
      "Agency_CWT                                           float64\n",
      "Agency_EPX                                           float64\n",
      "Agency_JWT                                           float64\n",
      "Agency_JZI                                           float64\n",
      "Agency_KML                                           float64\n",
      "Agency_LWC                                           float64\n",
      "Agency_RAB                                           float64\n",
      "Agency_SSI                                           float64\n",
      "Agency_TST                                           float64\n",
      "Agency_TTW                                           float64\n",
      "Agency_nan                                           float64\n",
      "Agency Type_Airlines                                 float64\n",
      "Agency Type_Travel Agency                            float64\n",
      "Agency Type_nan                                      float64\n",
      "Distribution Channel_Offline                         float64\n",
      "Distribution Channel_Online                          float64\n",
      "Distribution Channel_nan                             float64\n",
      "Product Name_1 way Comprehensive Plan                float64\n",
      "Product Name_2 way Comprehensive Plan                float64\n",
      "Product Name_24 Protect                              float64\n",
      "Product Name_Annual Gold Plan                        float64\n",
      "Product Name_Annual Silver Plan                      float64\n",
      "Product Name_Annual Travel Protect Gold              float64\n",
      "Product Name_Annual Travel Protect Platinum          float64\n",
      "Product Name_Annual Travel Protect Silver            float64\n",
      "Product Name_Basic Plan                              float64\n",
      "Product Name_Bronze Plan                             float64\n",
      "Product Name_Cancellation Plan                       float64\n",
      "Product Name_Child Comprehensive Plan                float64\n",
      "Product Name_Comprehensive Plan                      float64\n",
      "Product Name_Gold Plan                               float64\n",
      "Product Name_Individual Comprehensive Plan           float64\n",
      "Product Name_Premier Plan                            float64\n",
      "Product Name_Rental Vehicle Excess Insurance         float64\n",
      "Product Name_Silver Plan                             float64\n",
      "Product Name_Single Trip Travel Protect Gold         float64\n",
      "Product Name_Single Trip Travel Protect Platinum     float64\n",
      "Product Name_Single Trip Travel Protect Silver       float64\n",
      "Product Name_Spouse or Parents Comprehensive Plan    float64\n",
      "Product Name_Ticket Protector                        float64\n",
      "Product Name_Travel Cruise Protect                   float64\n",
      "Product Name_Travel Cruise Protect Family            float64\n",
      "Product Name_Value Plan                              float64\n",
      "Product Name_nan                                     float64\n",
      "Gender_F                                             float64\n",
      "Gender_M                                             float64\n",
      "Gender_nan                                           float64\n",
      "dtype: object [ True  True  True  True False False False False  True False]\n"
     ]
    }
   ],
   "source": [
    "cat_features_mask = (df.dtypes == \"object\").values\n",
    "df = pd.get_dummies(df, prefix=df.columns[cat_features_mask], dummy_na=True, dtype=float)\n",
    "print(df.dtypes, cat_features_mask)"
   ]
  },
  {
   "cell_type": "markdown",
   "metadata": {},
   "source": [
    "Подробный анализ и подготовка датасета часто помогают улучшить качество модели. Ниже представлено несколько идей преобразований. Вы можете применить одно или несколько из этих преобразований (а можете не применять), чтобы помочь будущей модели. \n",
    "\n",
    "1. Посмотрите на количественные признаки. Возможно, в некоторых признаках есть выбросы - значения, которые сильно выбиваются. Такие значения полезно удалять. Советуем присмотреться к колонке Duration)\n",
    "\n",
    "2. Можно заметить, что one hot encoding сильно раздувает количество столбцов. Радикальное решение - можно попробовать выбросить все категориальные признаки из датасета.\n",
    "\n",
    "3. Если все-таки оставляете категориальные признаки, то подумайте, как уменьшить количество столбцов после one hot encoding. Признаки с большим количеством значений (Duration - 149! разных стран) можно удалить или попробовать сгруппировать некоторые значения.\n",
    "\n",
    "4. Downsampling. Датасет достаточно большой, разница в классах огромная. Можно уменьшить число наблюдений с частым ответом."
   ]
  },
  {
   "cell_type": "markdown",
   "metadata": {
    "collapsed": false
   },
   "source": [
    "#### Иследование распределений"
   ]
  },
  {
   "cell_type": "code",
   "execution_count": 6,
   "metadata": {
    "ExecuteTime": {
     "end_time": "2024-02-25T07:29:50.199003200Z",
     "start_time": "2024-02-25T07:29:49.474763200Z"
    }
   },
   "outputs": [
    {
     "data": {
      "image/png": "[encoded data removed]",
      "text/plain": [
       "<Figure size 1500x1000 with 4 Axes>"
      ]
     },
     "metadata": {},
     "output_type": "display_data"
    }
   ],
   "source": [
    "num_bins = 40\n",
    "\n",
    "fig = plt.figure(figsize=(15, 10))\n",
    "plot_count = 1\n",
    "for col in float_columns:\n",
    "    plt.subplot(2, 2, plot_count)\n",
    "    n, bins, patches = plt.hist(df[col], num_bins, range=(np.min(df[col]), np.max(df[col])),\n",
    "                                density=True, color='green', alpha=0.7)\n",
    "    \n",
    "    mu, sigma = np.mean(df[col]), np.std(df[col])\n",
    "    y = ((1 / (np.sqrt(2 * np.pi) * sigma)) * np.exp(-0.5 * (1 / sigma * (bins - mu))**2))\n",
    "    \n",
    "    plt.plot(bins, y, '--', color ='black')\n",
    "    plt.xlabel(f'Range')\n",
    "    plt.ylabel(f'Count')\n",
    "    plt.title(f'{col} value')\n",
    "    plot_count += 1\n",
    "\n",
    "plt.show()\n",
    "# print(df.nunique())"
   ]
  },
  {
   "cell_type": "markdown",
   "metadata": {
    "collapsed": false
   },
   "source": [
    "Распределения (в основном) получились близки к нормальному распределению. Не идеально (можно было разбить выбросы значения в нижних графиках), но для данного примера вполне достаточно"
   ]
  },
  {
   "cell_type": "markdown",
   "metadata": {
    "collapsed": false
   },
   "source": [
    "Исследование итоговой корреляции в датафрейме"
   ]
  },
  {
   "cell_type": "code",
   "execution_count": 14,
   "metadata": {
    "ExecuteTime": {
     "end_time": "2024-03-03T16:07:14.353999Z",
     "start_time": "2024-03-03T16:07:14.081495Z"
    },
    "collapsed": false
   },
   "outputs": [
    {
     "name": "stdout",
     "output_type": "stream",
     "text": [
      "Claim                                                1.000000\n",
      "Duration                                             0.064987\n",
      "Net Sales                                            0.103355\n",
      "Commision (in value)                                 0.091077\n",
      "Age                                                 -0.021841\n",
      "Agency_ADM                                          -0.004389\n",
      "Agency_ART                                          -0.007012\n",
      "Agency_C2B                                           0.166248\n",
      "Agency_CBH                                          -0.001577\n",
      "Agency_CCR                                           0.000381\n",
      "Agency_CSR                                          -0.000924\n",
      "Agency_CWT                                          -0.015213\n",
      "Agency_EPX                                          -0.084415\n",
      "Agency_JWT                                          -0.008470\n",
      "Agency_JZI                                          -0.027026\n",
      "Agency_KML                                           0.003791\n",
      "Agency_LWC                                           0.032845\n",
      "Agency_RAB                                          -0.011881\n",
      "Agency_SSI                                          -0.008685\n",
      "Agency_TST                                          -0.008284\n",
      "Agency_TTW                                           0.008581\n",
      "Agency_nan                                                NaN\n",
      "Agency Type_Airlines                                 0.098706\n",
      "Agency Type_Travel Agency                           -0.098706\n",
      "Agency Type_nan                                           NaN\n",
      "Distribution Channel_Offline                         0.000798\n",
      "Distribution Channel_Online                         -0.000798\n",
      "Distribution Channel_nan                                  NaN\n",
      "Product Name_1 way Comprehensive Plan               -0.023419\n",
      "Product Name_2 way Comprehensive Plan               -0.016403\n",
      "Product Name_24 Protect                             -0.007627\n",
      "Product Name_Annual Gold Plan                        0.043206\n",
      "Product Name_Annual Silver Plan                      0.120802\n",
      "Product Name_Annual Travel Protect Gold              0.028266\n",
      "Product Name_Annual Travel Protect Platinum          0.010113\n",
      "Product Name_Annual Travel Protect Silver            0.009787\n",
      "Product Name_Basic Plan                             -0.026708\n",
      "Product Name_Bronze Plan                             0.081009\n",
      "Product Name_Cancellation Plan                      -0.065995\n",
      "Product Name_Child Comprehensive Plan               -0.001453\n",
      "Product Name_Comprehensive Plan                     -0.000571\n",
      "Product Name_Gold Plan                               0.022720\n",
      "Product Name_Individual Comprehensive Plan           0.007377\n",
      "Product Name_Premier Plan                            0.000381\n",
      "Product Name_Rental Vehicle Excess Insurance        -0.015213\n",
      "Product Name_Silver Plan                             0.076782\n",
      "Product Name_Single Trip Travel Protect Gold         0.016274\n",
      "Product Name_Single Trip Travel Protect Platinum     0.015233\n",
      "Product Name_Single Trip Travel Protect Silver       0.003697\n",
      "Product Name_Spouse or Parents Comprehensive Plan    0.006668\n",
      "Product Name_Ticket Protector                       -0.008685\n",
      "Product Name_Travel Cruise Protect                  -0.008271\n",
      "Product Name_Travel Cruise Protect Family           -0.000484\n",
      "Product Name_Value Plan                             -0.013464\n",
      "Product Name_nan                                          NaN\n",
      "Gender_F                                             0.081872\n",
      "Gender_M                                             0.057891\n",
      "Gender_nan                                          -0.108134\n",
      "Name: Claim, dtype: float64\n"
     ]
    }
   ],
   "source": [
    "print(df.corr(method='pearson', min_periods=1, numeric_only=True)['Claim'])  # Корреляция method={‘pearson’, ‘kendall’, ‘spearman’}"
   ]
  },
  {
   "cell_type": "markdown",
   "metadata": {},
   "source": [
    "### Применение линейной регрессии (10 баллов)"
   ]
  },
  {
   "cell_type": "markdown",
   "metadata": {},
   "source": [
    "Это задача классификации, но её можно решить с помощью линейной регрессии, если округлять предсказанный ответ до целого и выбирать ближайший по значению ответ из множества {0, 1}.\n",
    "\n",
    "Вынесите признак 'Claim' в вектор ответов и разделите датасет на обучающую и тестовую выборку в соотношении 80 к 20. Зафиксируйте random_state.\n",
    "\n",
    "**Подсказка:** быстро перевести Yes/No в 1/0 можно так - np.where(df['Claim'] == 'Yes', 1,0)"
   ]
  },
  {
   "cell_type": "code",
   "execution_count": 15,
   "metadata": {
    "ExecuteTime": {
     "end_time": "2024-03-03T16:10:24.824202Z",
     "start_time": "2024-03-03T16:10:24.792096Z"
    }
   },
   "outputs": [
    {
     "name": "stdout",
     "output_type": "stream",
     "text": [
      "(50660, 57) (12666, 57) (50660,) (12666,)\n",
      "(63326, 58) <class 'pandas.core.frame.DataFrame'> <class 'pandas.core.series.Series'>\n"
     ]
    }
   ],
   "source": [
    "X = df[df.columns[np.where(df.columns != 'Claim')]]\n",
    "y = df['Claim']\n",
    "\n",
    "X_train, X_test, y_train, y_test = train_test_split(X, y, train_size=0.8, test_size=0.2, random_state=42)\n",
    "print(X_train.shape, X_test.shape, y_train.shape, y_test.shape)\n",
    "print(df.shape, type(X), type(y))"
   ]
  },
  {
   "cell_type": "markdown",
   "metadata": {},
   "source": [
    "Найдите аналитическое решение для обучающей выборки: обычное и регуляризацией l2. "
   ]
  },
  {
   "cell_type": "code",
   "execution_count": 16,
   "metadata": {
    "ExecuteTime": {
     "end_time": "2024-03-03T16:10:26.534793Z",
     "start_time": "2024-03-03T16:10:26.498770Z"
    }
   },
   "outputs": [
    {
     "name": "stdout",
     "output_type": "stream",
     "text": [
      "MSE train: 0.1364\n",
      "MAE train: 0.2387\n"
     ]
    }
   ],
   "source": [
    "# Расширение X_train\n",
    "X_train_wide = np.hstack([np.ones((X_train.shape[0], 1)), X_train])\n",
    "\n",
    "# Обычное аналитическое решение\n",
    "alpha = 1e-9  #  Обычное, т.к. alpha ~ 0\n",
    "\n",
    "W_ = np.linalg.inv(X_train_wide.T @ X_train_wide + alpha**2 * np.eye(X_train_wide.shape[1])) @ X_train_wide.T @ y_train\n",
    "b, W = W_[0], W_[1:]\n",
    "# print(X_train.shape, X_train_wide.shape)\n",
    "# print(np.linalg.det(X_train_wide.T @ X_train_wide + alpha**2 * np.eye(X_train_wide.shape[1])))\n",
    "# print(W_)\n",
    "\n",
    "y_pred = X_train @ W + b\n",
    "print(f\"MSE train: {sklearn.metrics.mean_squared_error(y_train, y_pred) :.4f}\")\n",
    "print(f\"MAE train: {sklearn.metrics.mean_absolute_error(y_train, y_pred) :.4f}\")"
   ]
  },
  {
   "cell_type": "code",
   "execution_count": 17,
   "metadata": {
    "ExecuteTime": {
     "end_time": "2024-03-03T16:10:28.297554Z",
     "start_time": "2024-03-03T16:10:28.265355Z"
    }
   },
   "outputs": [
    {
     "name": "stdout",
     "output_type": "stream",
     "text": [
      "MSE train: 0.0140\n",
      "MAE train: 0.0288\n",
      "MSE test: 0.0135\n",
      "MAE test: 0.0289\n"
     ]
    }
   ],
   "source": [
    "# Аналитическое решение с регуляризацией\n",
    "alpha = 1  #  L2, т.к. alpha = 1\n",
    "\n",
    "W_ = np.linalg.inv(X_train_wide.T @ X_train_wide + alpha**2 * np.eye(X_train_wide.shape[1])) @ X_train_wide.T @ y_train\n",
    "b, W = W_[0], W_[1:]\n",
    "# print(X_train.shape, X_train_wide.shape)\n",
    "# print(np.linalg.det(X_train_wide.T @ X_train_wide + alpha**2 * np.eye(X_train_wide.shape[1])))\n",
    "# print(W_)\n",
    "\n",
    "y_pred = X_train @ W + b\n",
    "print(f\"MSE train: {sklearn.metrics.mean_squared_error(y_train, y_pred) :.4f}\")\n",
    "print(f\"MAE train: {sklearn.metrics.mean_absolute_error(y_train, y_pred) :.4f}\")\n",
    "\n",
    "y_pred = X_test @ W + b\n",
    "print(f\"MSE test: {sklearn.metrics.mean_squared_error(y_test, y_pred) :.4f}\")\n",
    "print(f\"MAE test: {sklearn.metrics.mean_absolute_error(y_test, y_pred) :.4f}\")"
   ]
  },
  {
   "cell_type": "markdown",
   "metadata": {},
   "source": [
    "Постройте модель LinearRegression, примените к тестовой выборке и посчитайте MSE (можно использовать библиотеку sklearn)"
   ]
  },
  {
   "cell_type": "code",
   "execution_count": 28,
   "metadata": {
    "ExecuteTime": {
     "end_time": "2024-03-03T16:27:57.830439Z",
     "start_time": "2024-03-03T16:27:57.126224Z"
    }
   },
   "outputs": [
    {
     "name": "stdout",
     "output_type": "stream",
     "text": [
      "Model test MSE: 0.2185\n",
      "Model test MAE: 0.2185\n",
      "Model test Precision: 0.0473\n",
      "Model test Recall: 0.7500\n",
      "Model test F1 score: 0.0889\n"
     ]
    }
   ],
   "source": [
    "model1 = LinearRegression()\n",
    "model2 = ElasticNet()\n",
    "model3 = RidgeClassifier(alpha=1.0, class_weight='balanced')\n",
    "model4 = PassiveAggressiveClassifier(class_weight='balanced')\n",
    "model5 = SGDClassifier(class_weight='balanced')\n",
    "model6 = SGDClassifier(class_weight='balanced', loss='modified_huber')  # Best of all\n",
    "model7 = LogisticRegression(class_weight='balanced', solver='lbfgs', max_iter=1000)\n",
    "\n",
    "\n",
    "model = model7\n",
    "model.fit(X_train, y_train)\n",
    "y_pred = model.predict(X_test)\n",
    "\n",
    "y_pred_int = np.where(y_pred < 0.5, 0, 1)\n",
    "print(f\"Model test MSE: {sklearn.metrics.mean_squared_error(y_test, y_pred) :.4f}\")\n",
    "print(f\"Model test MAE: {sklearn.metrics.mean_absolute_error(y_test, y_pred) :.4f}\")\n",
    "print(f\"Model test Precision: {sklearn.metrics.precision_score(y_test, y_pred_int) :.4f}\")\n",
    "print(f\"Model test Recall: {sklearn.metrics.recall_score(y_test, y_pred_int) :.4f}\")\n",
    "print(f\"Model test F1 score: {sklearn.metrics.f1_score(y_test, y_pred_int) :.4f}\")"
   ]
  },
  {
   "cell_type": "code",
   "execution_count": 25,
   "metadata": {
    "ExecuteTime": {
     "end_time": "2024-03-03T16:12:50.173052Z",
     "start_time": "2024-03-03T16:12:50.078485Z"
    },
    "collapsed": false
   },
   "outputs": [
    {
     "name": "stdout",
     "output_type": "stream",
     "text": [
      "<class 'pandas.core.frame.DataFrame'> <class 'pandas.core.series.Series'>\n",
      "(63326, 57) (63326,) (63326, 58) <class 'pandas.core.frame.DataFrame'> <class 'pandas.core.series.Series'>\n",
      "[[ 1.64436854 -2.36229416  0.57459451  2.11266365  0.          0.\n",
      "   0.          1.          0.          0.          0.          0.\n",
      "   0.          0.          0.          0.          0.          0.\n",
      "   0.          0.          0.          0.          1.          0.\n",
      "   1.          0.          0.          0.          0.          0.\n",
      "   0.          0.          0.          0.          0.          0.\n",
      "   0.          0.          0.          1.          0.          0.\n",
      "   0.          0.          0.          0.          0.          0.\n",
      "   0.          0.          0.          0.          0.          0.\n",
      "   1.          0.          0.        ]] [0]\n"
     ]
    },
    {
     "data": {
      "image/png": "[encoded data removed]",
      "text/plain": [
       "<Figure size 600x300 with 1 Axes>"
      ]
     },
     "metadata": {},
     "output_type": "display_data"
    }
   ],
   "source": [
    "print(type(X), type(y))\n",
    "print(X.shape, y.shape, df.shape, type(X), type(y))\n",
    "print(X.values[:1], y.values[:1])\n",
    "\n",
    "X_table, y_table = X_test, y_test  # X_train, y_train\n",
    "y_pred = model.predict(X_table).reshape(-1)\n",
    "y_pred = np.where(y_pred < 0.5, 0, 1)\n",
    "y_pred_inv, y_table_inv = np.abs(y_pred - 1), np.abs(y_table - 1)\n",
    "\n",
    "# Некрасивая реализация, т.к. раньше не додумался до:\n",
    "# sklearn.metrics.confusion_matrix  tn, fp, fn, tp = confusion_matrix(y_true, y_pred, labels=[0, 1]).ravel()\n",
    "data = [\n",
    "    [str(np.count_nonzero(np.logical_and(y_table     == y_pred,     y_table     == 1))),\n",
    "     str(np.count_nonzero(np.logical_and(y_table_inv == y_pred_inv, y_table_inv == 1))),],\n",
    "    [str(np.count_nonzero(np.logical_and(y_table     == y_pred_inv, y_table     == 0))),\n",
    "     str(np.count_nonzero(np.logical_and(y_table_inv == y_pred,     y_table_inv == 0))),],\n",
    "]\n",
    "\n",
    "background_color = plt.cm.Blues(0.4)\n",
    "plt.figure(figsize=(6, 3), linewidth=2,\n",
    "           facecolor='#3bd1ff',\n",
    "           edgecolor='#057ea3')\n",
    "\n",
    "plt.title('Результаты работы модели', size=20)\n",
    "table = plt.table(cellText=data,\n",
    "          rowLabels=[\"True\", \"False\"],\n",
    "          colLabels=[\"Positive\", \"Negative\"],\n",
    "          rowColours=[\"lightgreen\", \"#E03C31\"],\n",
    "          loc='center')\n",
    "\n",
    "table.scale(1, 1.5)\n",
    "\n",
    "ax = plt.gca()\n",
    "ax.get_xaxis().set_visible(False)\n",
    "ax.get_yaxis().set_visible(False)\n",
    "plt.box(on=None)\n",
    "plt.figtext(0.95, 0.05, \"\", horizontalalignment='right', size=10, weight='light')\n",
    "\n",
    "plt.show()\n",
    "# plt.savefig(\"fname.png\")"
   ]
  },
  {
   "cell_type": "markdown",
   "metadata": {},
   "source": [
    "### Вывод (1 балла)"
   ]
  },
  {
   "cell_type": "markdown",
   "metadata": {},
   "source": [
    "Напишите краткий вывод по заданию (достаточно пары предложений). Расскажите, какие способы предобработки данных вы выбрали и почему. Насколько хороша ваша модель?"
   ]
  },
  {
   "cell_type": "markdown",
   "metadata": {
    "collapsed": false
   },
   "source": [
    "В результате работы получилось изучить датасет, применить к нему _pd.get_dummies (one hot encoder)_ и создать более правильное распределение численных признаков _QuantileTransformer_ справился намного ~в разы~ лучше чем _MinMaxScaler_. Разделил датасет на выборки, применил к ним аналитическое решение, а также решение при помощи разных линейных моделей. _SGDClassifier(class_weight='balanced', loss='modified_huber')_ оказалась лучшим решением. Нашёл метрики к полученным решениям."
   ]
  }
 ],
 "metadata": {
  "colab": {
   "name": "Untitled9.ipynb",
   "provenance": []
  },
  "kernelspec": {
   "display_name": "Python 3 (ipykernel)",
   "language": "python",
   "name": "python3"
  },
  "language_info": {
   "codemirror_mode": {
    "name": "ipython",
    "version": 3
   },
   "file_extension": ".py",
   "mimetype": "text/x-python",
   "name": "python",
   "nbconvert_exporter": "python",
   "pygments_lexer": "ipython3",
   "version": "3.10.13"
  }
 },
 "nbformat": 4,
 "nbformat_minor": 4
}
