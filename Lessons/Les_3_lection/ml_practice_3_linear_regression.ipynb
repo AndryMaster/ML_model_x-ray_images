{
 "cells": [
  {
   "cell_type": "markdown",
   "metadata": {},
   "source": [
    "# Практическое занятие №3. Линейные модели"
   ]
  },
  {
   "cell_type": "code",
   "execution_count": null,
   "metadata": {},
   "outputs": [],
   "source": [
    "import numpy as np\n",
    "import pandas as pd\n",
    "import matplotlib.pyplot as plt\n",
    "\n",
    "from sklearn.model_selection import train_test_split"
   ]
  },
  {
   "cell_type": "markdown",
   "metadata": {},
   "source": [
    "**Напоминание**\n",
    "\n",
    "Модель линейной регрессии $f(X)$\n",
    "$$f(X) = Xw$$\n",
    "\n",
    "Функция риска\n",
    "$$Q(X) = |y - Xw|^2$$\n",
    "\n",
    "Аналитическое решение \n",
    "$$w^* = (X^TX)^{-1}X^Ty$$"
   ]
  },
  {
   "cell_type": "markdown",
   "metadata": {},
   "source": [
    "## Реализация аналитического решения и сравнение с sklearn. Базовый случай с 1 признаком"
   ]
  },
  {
   "cell_type": "code",
   "execution_count": null,
   "metadata": {},
   "outputs": [],
   "source": [
    "# сгенерируем простой датасет с одним признаком\n",
    "n_objects = 100\n",
    "\n",
    "linear_func = lambda x:  3.2 * x + 8\n",
    "\n",
    "X = np.linspace(-10, 10, n_objects)\n",
    "y = linear_func(X) + np.random.randn(n_objects) * 5"
   ]
  },
  {
   "cell_type": "code",
   "execution_count": null,
   "metadata": {},
   "outputs": [],
   "source": [
    "# посмотрим на датасет\n",
    "plt.figure(figsize=(8, 5))\n",
    "plt.plot(X, linear_func(X), label='реальная зависимость', c='red')\n",
    "plt.scatter(X, y, label='объекты выборки', c='b')\n",
    "\n",
    "plt.title(\"Сгенерированный датасет\")\n",
    "plt.grid(alpha=0.2)\n",
    "plt.legend()\n",
    "plt.show()"
   ]
  },
  {
   "cell_type": "code",
   "execution_count": null,
   "metadata": {},
   "outputs": [],
   "source": [
    "# класс линейной регрессии с помощью аналитического решения\n",
    "class DummyLinearRegression:\n",
    "    def __init__(self, fit_intercept=True):\n",
    "        self.fit_intercept = fit_intercept\n",
    "\n",
    "    def fit(self, X, y):\n",
    "        \"\"\"\n",
    "        фукнкция обучения - вычисляет параметры модели (веса) по данной выборке\n",
    "        \n",
    "        Inputs:\n",
    "        X - матрица признаков\n",
    "        y - вектор ответов\n",
    "        \n",
    "        Outputs:\n",
    "        self - модель\n",
    "        \"\"\"\n",
    "        \n",
    "        n, k = X.shape\n",
    "        X_train = X\n",
    "        if self.fit_intercept:\n",
    "            X_train = np.hstack((np.ones((n, 1)), X))\n",
    "\n",
    "        # self.w = # < напишите код здесь > \n",
    "\n",
    "        return self\n",
    "        \n",
    "    def predict(self, X):\n",
    "        \"\"\"\n",
    "        функция предсказания - предсказывает ответы модели по данной выборке\n",
    "        \n",
    "        Inputs:\n",
    "        X - матрица признаков\n",
    "        \n",
    "        Outputs:\n",
    "        y_pred - предсказания\n",
    "        \"\"\"\n",
    "        \n",
    "        n, k = X.shape\n",
    "        if self.fit_intercept:\n",
    "            X_train = np.hstack((np.ones((n, 1)), X))\n",
    "\n",
    "        # y_pred = # < напишите код здесь > \n",
    "\n",
    "        return y_pred\n",
    "    \n",
    "    def get_weights(self):\n",
    "        return self.w"
   ]
  },
  {
   "cell_type": "code",
   "execution_count": null,
   "metadata": {},
   "outputs": [],
   "source": [
    "# разделим датасет на обучающую и тестовую выборки \n",
    "from sklearn.model_selection import train_test_split\n",
    "\n",
    "X_train, X_test, y_train, y_test = train_test_split(X, y, train_size=0.5)"
   ]
  },
  {
   "cell_type": "code",
   "execution_count": null,
   "metadata": {},
   "outputs": [],
   "source": [
    "# посмотрим на выборки\n",
    "plt.figure(figsize=(8, 5))\n",
    "plt.plot(X, linear_func(X), label='реальная зависимость', c='red')\n",
    "plt.scatter(X_train, y_train, label='обучающая выборка', c='g')\n",
    "plt.scatter(X_test, y_test, label='тестовая выборка', c='yellow')\n",
    "\n",
    "plt.title(\"Сгенерированный датасет\")\n",
    "plt.grid(alpha=0.2)\n",
    "plt.legend()\n",
    "plt.show()"
   ]
  },
  {
   "cell_type": "code",
   "execution_count": null,
   "metadata": {},
   "outputs": [],
   "source": [
    "# X_train и X_test - должны быть матрицами! признаков\n",
    "print(X_train.shape)\n",
    "print(X_train[:, np.newaxis].shape)"
   ]
  },
  {
   "cell_type": "code",
   "execution_count": null,
   "metadata": {},
   "outputs": [],
   "source": [
    "# тестируем нашу модель\n",
    "custom_linear_regressor = DummyLinearRegression()\n",
    "\n",
    "custom_linear_regressor.fit(X_train[:, np.newaxis], y_train)\n",
    "\n",
    "custom_predictions = custom_linear_regressor.predict(X_test[:, np.newaxis])\n",
    "w = custom_linear_regressor.get_weights()\n",
    "\n",
    "print(w)"
   ]
  },
  {
   "cell_type": "code",
   "execution_count": null,
   "metadata": {},
   "outputs": [],
   "source": [
    "# тестируем модель из коробки - sklearn\n",
    "# документация https://scikit-learn.org/stable/modules/generated/sklearn.linear_model.LinearRegression.html\n",
    "\n",
    "from sklearn.linear_model import LinearRegression\n",
    "\n",
    "sklearn_linear_regressor = LinearRegression()\n",
    "\n",
    "# sklearn_linear_regressor = # < напишите код здесь > \n",
    "\n",
    "# sklearn_predictions = # < напишите код здесь > \n",
    "\n",
    "# w = # < напишите код здесь > \n",
    "\n",
    "# print(w)"
   ]
  },
  {
   "cell_type": "code",
   "execution_count": null,
   "metadata": {},
   "outputs": [],
   "source": [
    "# нарисуем модели\n",
    "plt.figure(figsize=(8, 5))\n",
    "plt.plot(X, linear_func(X), label='реальная зависимость', c='g')\n",
    "\n",
    "plt.scatter(X_test, y_test, label='тестовая выборка', c='yellow')\n",
    "\n",
    "plt.plot(X_test, custom_predictions, label='предсказанная зависимость', c='blue', linestyle=':')\n",
    "plt.plot(X_test, sklearn_predictions, label='предсказанная зависимость', c='red', linestyle=':')\n",
    "\n",
    "plt.title(\"Предсказанная зависимость\")\n",
    "plt.grid(alpha=0.2)\n",
    "plt.legend()\n",
    "plt.show()"
   ]
  },
  {
   "cell_type": "markdown",
   "metadata": {},
   "source": [
    "## Скоррелированные признаки. Регуляризация"
   ]
  },
  {
   "cell_type": "code",
   "execution_count": null,
   "metadata": {},
   "outputs": [],
   "source": [
    "n_features = 3\n",
    "n_objects = 300\n",
    "\n",
    "eps = 1e-3\n",
    "\n",
    "X = np.random.uniform(-5, 5, (n_objects, n_features))\n",
    "\n",
    "# сделаем 2ой и 3и1 признак сильно скоррелированными\n",
    "X[:, -1] = X[:, -2] + np.random.uniform(-eps, eps, X[:, -2].shape)"
   ]
  },
  {
   "cell_type": "code",
   "execution_count": null,
   "metadata": {},
   "outputs": [],
   "source": [
    "# смотрим на признаки\n",
    "plt.figure(figsize=(12, 6))\n",
    "\n",
    "plt.subplot(231)\n",
    "plt.hist(X[:, 0], 15, density=True, color='orange')\n",
    "plt.title('1ый признак')\n",
    "\n",
    "plt.subplot(232)\n",
    "plt.hist(X[:, 1], 15, density=True, color='green')\n",
    "plt.title('2ой признак')\n",
    "\n",
    "plt.subplot(233)\n",
    "plt.hist(X[:, 2], 15, density=True)\n",
    "plt.title('3ий признак')\n",
    "\n",
    "plt.show()"
   ]
  },
  {
   "cell_type": "code",
   "execution_count": null,
   "metadata": {},
   "outputs": [],
   "source": [
    "# реальный вектор весов\n",
    "w_true = np.random.normal(size=(n_features + 1, ))\n",
    "w_true[0] = 0\n",
    "\n",
    "y = np.hstack((np.ones((n_objects, 1)), X)).dot(w_true) + np.random.normal(0, 1, (n_objects))\n",
    "\n",
    "w_true"
   ]
  },
  {
   "cell_type": "code",
   "execution_count": null,
   "metadata": {},
   "outputs": [],
   "source": [
    "# предсказанный вектор весов\n",
    "custom_linear_regressor = DummyLinearRegression().fit(X, y)\n",
    "\n",
    "custom_linear_regressor.get_weights()"
   ]
  },
  {
   "cell_type": "markdown",
   "metadata": {},
   "source": [
    "**Напоминание**\n",
    "\n",
    "Функция риска с L2 регуляризацией\n",
    "$$Q(X) = |y - Xw|^2 + \\lambda^2|w|^2$$\n",
    "\n",
    "Аналитическое решение с L2 регуляризацией\n",
    "$$\\hat{w} = (X^TX + \\lambda^2E)^{-1}X^Ty$$"
   ]
  },
  {
   "cell_type": "code",
   "execution_count": null,
   "metadata": {},
   "outputs": [],
   "source": [
    "# класс линейной регрессии с помощью аналитического решения c регуляризацией\n",
    "class DummyLinearRegressionWithRegularization(DummyLinearRegression):\n",
    "    def __init__(self, fit_intercept=True):\n",
    "        super().__init__(fit_intercept)\n",
    "\n",
    "    def fit_with_l2(self, X, y):\n",
    "        \"\"\"\n",
    "        функция обучения - вычисляет параметры модели (веса) по данной выборке, c учетом регуляризации\n",
    "        \n",
    "        Inputs:\n",
    "        X - матрица признаков\n",
    "        y - вектор ответов\n",
    "        \n",
    "        Outputs:\n",
    "        self - модель\n",
    "        \"\"\"\n",
    "        \n",
    "        n, k = X.shape\n",
    "        X_train = X\n",
    "        if self.fit_intercept:\n",
    "            X_train = np.hstack((np.ones((n, 1)), X))\n",
    "\n",
    "        # self.w = # < напишите код здесь > \n",
    "\n",
    "        return self"
   ]
  },
  {
   "cell_type": "code",
   "execution_count": null,
   "metadata": {},
   "outputs": [],
   "source": [
    "# предсказанный вектор весов с регуляризацией\n",
    "custom_linear_regressor = DummyLinearRegressionWithRegularization().fit_with_l2(X, y)\n",
    "\n",
    "custom_linear_regressor.get_weights()"
   ]
  },
  {
   "cell_type": "code",
   "execution_count": null,
   "metadata": {},
   "outputs": [],
   "source": [
    "w_true"
   ]
  },
  {
   "cell_type": "markdown",
   "metadata": {},
   "source": [
    "## Решаем настоящую задачу"
   ]
  },
  {
   "cell_type": "code",
   "execution_count": null,
   "metadata": {},
   "outputs": [],
   "source": [
    "# о датасете https://archive.ics.uci.edu/ml/datasets/Automobile"
   ]
  },
  {
   "cell_type": "code",
   "execution_count": null,
   "metadata": {},
   "outputs": [],
   "source": [
    "df = pd.read_csv(\"https://archive.ics.uci.edu/ml/machine-learning-databases/autos/imports-85.data\", \\\n",
    "                    header=None, na_values=[\"?\"])"
   ]
  },
  {
   "cell_type": "code",
   "execution_count": null,
   "metadata": {},
   "outputs": [],
   "source": [
    "headers=[\"symboling\", \"normalized-losses\", \"make\", \"fuel-type\", \"aspiration\", \"num-of-doors\", \"body-style\", \"drive-wheels\",\n",
    "        \"engine-location\", \"wheel-base\", \"length\", \"width\", \"height\", \"curb-weight\", \"engine-type\", \"num-of-cylinders\",\n",
    "         \"engine-size\", \"fuel-system\", \"bore\", \"stroke\", \"compression-ratio\", \"horsepower\", \"peak-rpm\", \"city-mpg\",\n",
    "         \"highway-mpg\", \"price\"]"
   ]
  },
  {
   "cell_type": "code",
   "execution_count": null,
   "metadata": {},
   "outputs": [],
   "source": [
    "df.columns = headers"
   ]
  },
  {
   "cell_type": "code",
   "execution_count": null,
   "metadata": {},
   "outputs": [],
   "source": [
    "df.head()"
   ]
  },
  {
   "cell_type": "markdown",
   "metadata": {},
   "source": [
    "### Смотрим на данные"
   ]
  },
  {
   "cell_type": "code",
   "execution_count": null,
   "metadata": {},
   "outputs": [],
   "source": [
    "df.info()"
   ]
  },
  {
   "cell_type": "code",
   "execution_count": null,
   "metadata": {},
   "outputs": [],
   "source": [
    "# распределение числовой фичи\n",
    "plt.figure(figsize=(5, 3))\n",
    "plt.hist(df[\"price\"], bins=10)\n",
    "plt.show()"
   ]
  },
  {
   "cell_type": "code",
   "execution_count": null,
   "metadata": {},
   "outputs": [],
   "source": [
    "# соотношение таргета и разных числовых фичей\n",
    "plt.figure(figsize=(15, 7))\n",
    "\n",
    "plt.subplot(231)\n",
    "plt.scatter(df[\"horsepower\"], df[\"price\"])\n",
    "plt.title(\"Price vs Housepower\")\n",
    "\n",
    "plt.subplot(232)\n",
    "plt.scatter(df[\"peak-rpm\"], df[\"price\"])\n",
    "plt.title(\"Price vs peak-rpm\")\n",
    "\n",
    "plt.subplot(233)\n",
    "plt.scatter(df[\"highway-mpg\"], df[\"price\"])\n",
    "plt.title(\"Price vs highway-mpg\")\n",
    "\n",
    "plt.subplot(234)\n",
    "plt.scatter(df['curb-weight'], df[\"price\"])\n",
    "plt.title(\"Price vs curb-weight\")\n",
    "\n",
    "plt.show()"
   ]
  },
  {
   "cell_type": "code",
   "execution_count": null,
   "metadata": {},
   "outputs": [],
   "source": [
    "# распределение категорийных фичей\n",
    "plt.figure(figsize = (20,10))\n",
    "\n",
    "plt.subplot(231)\n",
    "plt.pie(df['body-style'].value_counts(), labels = df['body-style'].value_counts().index, autopct = '%1.2f%%')\n",
    "plt.title('body-style')\n",
    "\n",
    "plt.subplot(232)\n",
    "plt.pie(df['drive-wheels'].value_counts(), labels = df['drive-wheels'].value_counts().index, autopct = '%1.2f%%')\n",
    "plt.title('drive-wheels')\n",
    "\n",
    "plt.show()"
   ]
  },
  {
   "cell_type": "markdown",
   "metadata": {},
   "source": [
    "### Предобработка данных"
   ]
  },
  {
   "cell_type": "code",
   "execution_count": null,
   "metadata": {},
   "outputs": [],
   "source": [
    "# перед предобработкой сразу отделим таргет\n",
    "# y - вектор с ценой, df - остальные признаки\n",
    "y = # < напишите код здесь > \n",
    "df = # < напишите код здесь > "
   ]
  },
  {
   "cell_type": "markdown",
   "metadata": {},
   "source": [
    "**Работа с пропущенными значениями**"
   ]
  },
  {
   "cell_type": "code",
   "execution_count": null,
   "metadata": {},
   "outputs": [],
   "source": [
    "# проверка пропусков\n",
    "df.isnull().sum()"
   ]
  },
  {
   "cell_type": "code",
   "execution_count": null,
   "metadata": {},
   "outputs": [],
   "source": [
    "# маска для категорийных признаков - они имеют тип object\n",
    "cat_features_mask = (df.dtypes == \"object\").values"
   ]
  },
  {
   "cell_type": "code",
   "execution_count": null,
   "metadata": {},
   "outputs": [],
   "source": [
    "# численные значения\n",
    "df_num = df[df.columns[~cat_features_mask]]\n",
    "df_num.head()"
   ]
  },
  {
   "cell_type": "code",
   "execution_count": null,
   "metadata": {},
   "outputs": [],
   "source": [
    "# вариант 1 - заменяем пропущенные числовые значения нулями\n",
    "df_num_no_1 = df_num.fillna(0)\n",
    "df_num_no_1.head()"
   ]
  },
  {
   "cell_type": "code",
   "execution_count": null,
   "metadata": {},
   "outputs": [],
   "source": [
    "# вариант 2 - заменяем пропущенные числовые значения средними\n",
    "from sklearn import impute\n",
    "\n",
    "replacer = impute.SimpleImputer(strategy=\"mean\")\n",
    "df_num_no_2 = pd.DataFrame(data=replacer.fit_transform(df_num), columns=df_num.columns)\n",
    "\n",
    "df_num_no_2.head()"
   ]
  },
  {
   "cell_type": "code",
   "execution_count": null,
   "metadata": {},
   "outputs": [],
   "source": [
    "# категорийные значения - заменим пустыми строками\n",
    "df_cat_no = df[df.columns[cat_features_mask]].fillna(\"\")\n",
    "df_cat_no.head()"
   ]
  },
  {
   "cell_type": "code",
   "execution_count": null,
   "metadata": {},
   "outputs": [],
   "source": [
    "# все признаки вместе\n",
    "df_no = pd.concat([df_num_no_2, df_cat_no], axis=1)\n",
    "df_no.head()"
   ]
  },
  {
   "cell_type": "markdown",
   "metadata": {},
   "source": [
    "**Преобразование нечисловых значений**"
   ]
  },
  {
   "cell_type": "code",
   "execution_count": null,
   "metadata": {},
   "outputs": [],
   "source": [
    "df_no.shape"
   ]
  },
  {
   "cell_type": "code",
   "execution_count": null,
   "metadata": {},
   "outputs": [],
   "source": [
    "df_dum = pd.get_dummies(df_no, drop_first=True)\n",
    "df_dum.shape"
   ]
  },
  {
   "cell_type": "code",
   "execution_count": null,
   "metadata": {},
   "outputs": [],
   "source": [
    "df_dum.head()"
   ]
  },
  {
   "cell_type": "markdown",
   "metadata": {},
   "source": [
    "**Добавление новых признаков**"
   ]
  },
  {
   "cell_type": "code",
   "execution_count": null,
   "metadata": {},
   "outputs": [],
   "source": [
    "# на какую функцию похожа зависимость от curb-weight?\n",
    "plt.scatter(df_dum['curb-weight'], df_dum[\"price\"])"
   ]
  },
  {
   "cell_type": "code",
   "execution_count": null,
   "metadata": {},
   "outputs": [],
   "source": [
    "# а на что похожа зависимость от highway-mpg?\n",
    "plt.scatter(df_dum['highway-mpg'], df_dum[\"price\"])"
   ]
  },
  {
   "cell_type": "code",
   "execution_count": null,
   "metadata": {},
   "outputs": [],
   "source": [
    "# заменим фичи\n",
    "# df_dum['curb-weight'] = # < напишите код здесь > \n",
    "# df_dum['highway-mpg'] = # < напишите код здесь > "
   ]
  },
  {
   "cell_type": "markdown",
   "metadata": {},
   "source": [
    "**Масштабирование признаков**"
   ]
  },
  {
   "cell_type": "code",
   "execution_count": null,
   "metadata": {},
   "outputs": [],
   "source": [
    "# способ 1 - нормализация\n",
    "# документация https://scikit-learn.org/stable/modules/generated/sklearn.preprocessing.StandardScaler.html\n",
    "from sklearn import preprocessing\n",
    "\n",
    "normalizer = preprocessing.StandardScaler()\n",
    "df_norm1 = normalizer.fit_transform(df_dum)\n",
    "df_norm1"
   ]
  },
  {
   "cell_type": "code",
   "execution_count": null,
   "metadata": {},
   "outputs": [],
   "source": [
    "# способ 2 - MinMaxScaler\n",
    "# документация https://scikit-learn.org/stable/modules/generated/sklearn.preprocessing.MinMaxScaler.html\n",
    "normalizer = preprocessing.MinMaxScaler()\n",
    "df_norm2 = normalizer.fit_transform(df_dum)\n",
    "df_norm2"
   ]
  },
  {
   "cell_type": "code",
   "execution_count": null,
   "metadata": {},
   "outputs": [],
   "source": [
    "df_norm = pd.DataFrame(df_norm2)\n",
    "df_norm.columns = df_dum.columns\n",
    "df_norm.head()"
   ]
  },
  {
   "cell_type": "code",
   "execution_count": null,
   "metadata": {},
   "outputs": [],
   "source": [
    "# сброс нумерации индексов\n",
    "df_norm = df_norm.reset_index(drop=True)"
   ]
  },
  {
   "cell_type": "markdown",
   "metadata": {},
   "source": [
    "**Обучение модели**"
   ]
  },
  {
   "cell_type": "code",
   "execution_count": null,
   "metadata": {},
   "outputs": [],
   "source": [
    "X = df_norm"
   ]
  },
  {
   "cell_type": "code",
   "execution_count": null,
   "metadata": {},
   "outputs": [],
   "source": [
    "from sklearn.metrics import mean_squared_error, mean_absolute_error"
   ]
  },
  {
   "cell_type": "code",
   "execution_count": null,
   "metadata": {},
   "outputs": [],
   "source": [
    "# запустим модель 100 раз и посмотрим на метрику MSE\n",
    "mses = []\n",
    "for i in range(100):\n",
    "    X_train, X_test, y_train, y_test = train_test_split(X, y, train_size=0.7)\n",
    "    lr = LinearRegression()\n",
    "    lr.fit(X_train, y_train)\n",
    "    mses.append(mean_squared_error(y_test, lr.predict(X_test)))\n",
    "    \n",
    "plt.plot(np.arange(100), mses)\n",
    "plt.title('Значения MSE')\n",
    "plt.show()"
   ]
  },
  {
   "cell_type": "code",
   "execution_count": null,
   "metadata": {},
   "outputs": [],
   "source": [
    "X_train, X_test, y_train, y_test = train_test_split(X, y, train_size=0.8)\n",
    "\n",
    "lr = LinearRegression()\n",
    "lr.fit(X_train, y_train)"
   ]
  },
  {
   "cell_type": "code",
   "execution_count": null,
   "metadata": {},
   "outputs": [],
   "source": [
    "print('MSE:', mean_squared_error(y_test, lr.predict(X_test)))"
   ]
  },
  {
   "cell_type": "code",
   "execution_count": null,
   "metadata": {},
   "outputs": [],
   "source": [
    "# почему так плохо?\n",
    "\n",
    "# найдем фичи, которые не меняются в train\n",
    "for i in range(X_train.shape[1]):\n",
    "    if min(X_train.values[:, i]) - max(X_train.values[:, i]) == 0 and min(X_train.values[:, i]) == 0:\n",
    "        print(i)"
   ]
  },
  {
   "cell_type": "code",
   "execution_count": null,
   "metadata": {},
   "outputs": [],
   "source": [
    "# посмотрим какие значения принимают эти фичи в test\n",
    "print(max(X_test.values[:, 47]))"
   ]
  },
  {
   "cell_type": "code",
   "execution_count": null,
   "metadata": {},
   "outputs": [],
   "source": [
    "# посмотрим вес этих фичей\n",
    "lr.coef_[47]"
   ]
  },
  {
   "cell_type": "code",
   "execution_count": null,
   "metadata": {},
   "outputs": [],
   "source": [
    "# регуляризация\n",
    "from sklearn.linear_model import Ridge\n",
    "\n",
    "# запустим модель 100 раз и посмотрим на метрику MSE\n",
    "mses = []\n",
    "for i in range(100):\n",
    "    X_train, X_test, y_train, y_test = train_test_split(X, y, train_size=0.7)\n",
    "    lr_l2 = Ridge()\n",
    "    lr_l2.fit(X_train, y_train)\n",
    "    mses.append(mean_squared_error(y_test, lr_l2.predict(X_test)))\n",
    "    \n",
    "plt.plot(np.arange(100), mses)\n",
    "plt.title('Значения MSE')\n",
    "plt.show()"
   ]
  },
  {
   "cell_type": "code",
   "execution_count": null,
   "metadata": {},
   "outputs": [],
   "source": [
    "# попробуйте применить модель с l1-регуляризацией\n",
    "# https://scikit-learn.org/stable/modules/generated/sklearn.linear_model.Lasso.html"
   ]
  }
 ],
 "metadata": {
  "kernelspec": {
   "display_name": "Python 3 (ipykernel)",
   "language": "python",
   "name": "python3"
  },
  "language_info": {
   "codemirror_mode": {
    "name": "ipython",
    "version": 3
   },
   "file_extension": ".py",
   "mimetype": "text/x-python",
   "name": "python",
   "nbconvert_exporter": "python",
   "pygments_lexer": "ipython3",
   "version": "3.9.6"
  }
 },
 "nbformat": 4,
 "nbformat_minor": 4
}
