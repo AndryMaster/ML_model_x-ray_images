{
 "cells": [
  {
   "cell_type": "code",
   "execution_count": 7,
   "id": "initial_id",
   "metadata": {
    "collapsed": true,
    "ExecuteTime": {
     "end_time": "2024-03-04T12:17:43.884871Z",
     "start_time": "2024-03-04T12:17:43.782720Z"
    }
   },
   "outputs": [],
   "source": [
    "import numpy as np\n",
    "\n",
    "delta = 1e-9"
   ]
  },
  {
   "cell_type": "markdown",
   "source": [
    "### Number 3-5"
   ],
   "metadata": {
    "collapsed": false
   },
   "id": "398ecf6623b37fa4"
  },
  {
   "cell_type": "code",
   "outputs": [
    {
     "name": "stdout",
     "output_type": "stream",
     "text": [
      "dx: 4.000000330961484\n",
      "dx: -2.000000165480742\n",
      "dx: 2.000000165480742\n",
      "dy: -1.000000082740371\n",
      "dz: 2.000000165480742\n"
     ]
    }
   ],
   "source": [
    "def f(x, y, z):\n",
    "    return (2 * x - y) * z\n",
    "\n",
    "\n",
    "x, y, z = 2, 3, 2\n",
    "# 3\n",
    "grad = (f(x+delta, y, z) - f(x, y, z)) / delta\n",
    "print(f\"dx: {grad}\")\n",
    "\n",
    "# 4\n",
    "grad = (f(x, y+delta, z) - f(x, y, z)) / delta\n",
    "print(f\"dx: {grad}\")\n",
    "\n",
    "# 5\n",
    "x, y, z = 1, 0, 1\n",
    "grad_x = (f(x+delta, y, z) - f(x, y, z)) / delta\n",
    "grad_y = (f(x, y+delta, z) - f(x, y, z)) / delta\n",
    "grad_z = (f(x, y, z+delta) - f(x, y, z)) / delta\n",
    "print(f\"dx: {grad_x}\\ndy: {grad_y}\\ndz: {grad_z}\\n\")"
   ],
   "metadata": {
    "collapsed": false,
    "ExecuteTime": {
     "end_time": "2024-03-04T12:13:33.384935Z",
     "start_time": "2024-03-04T12:13:33.379734Z"
    }
   },
   "id": "c68bc83a070083d7",
   "execution_count": 6
  },
  {
   "cell_type": "markdown",
   "source": [
    "### Number 6-9"
   ],
   "metadata": {
    "collapsed": false
   },
   "id": "c8b0fbeadf09efec"
  },
  {
   "cell_type": "code",
   "outputs": [
    {
     "name": "stdout",
     "output_type": "stream",
     "text": [
      "L=25\n",
      "dL_y=50\n"
     ]
    }
   ],
   "source": [
    "w0, w1, w2, w3 = 3, 1, 2, 1\n",
    "x1, x2, x3 = 3, -3, 10\n",
    "y = 5\n",
    "\n",
    "L = ((w0 + w1*x1 + w2*x2 + w3*x3) - y) ** 2\n",
    "\n",
    "dL_y = 2 * L\n",
    "\n",
    "print(f\"{L=}\\n{dL_y=}\")"
   ],
   "metadata": {
    "collapsed": false,
    "ExecuteTime": {
     "end_time": "2024-03-04T12:19:34.015013Z",
     "start_time": "2024-03-04T12:19:34.010503Z"
    }
   },
   "id": "94e2103af3b5fbd6",
   "execution_count": 8
  }
 ],
 "metadata": {
  "kernelspec": {
   "display_name": "Python 3",
   "language": "python",
   "name": "python3"
  },
  "language_info": {
   "codemirror_mode": {
    "name": "ipython",
    "version": 2
   },
   "file_extension": ".py",
   "mimetype": "text/x-python",
   "name": "python",
   "nbconvert_exporter": "python",
   "pygments_lexer": "ipython2",
   "version": "2.7.6"
  }
 },
 "nbformat": 4,
 "nbformat_minor": 5
}
