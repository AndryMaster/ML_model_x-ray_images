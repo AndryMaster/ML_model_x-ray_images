{
 "cells": [
  {
   "cell_type": "markdown",
   "source": [
    "# Homework"
   ],
   "metadata": {
    "collapsed": false
   },
   "id": "342e46d9ba88bbdc"
  },
  {
   "cell_type": "code",
   "execution_count": 1,
   "id": "initial_id",
   "metadata": {
    "collapsed": true,
    "ExecuteTime": {
     "end_time": "2024-03-12T15:30:45.215702Z",
     "start_time": "2024-03-12T15:30:42.339024Z"
    }
   },
   "outputs": [],
   "source": [
    "import numpy as np\n",
    "\n",
    "from torch import nn\n",
    "import torch"
   ]
  },
  {
   "cell_type": "markdown",
   "source": [
    "### Number 1"
   ],
   "metadata": {
    "collapsed": false
   },
   "id": "c89de24ec2aedbed"
  },
  {
   "cell_type": "code",
   "outputs": [
    {
     "name": "stdout",
     "output_type": "stream",
     "text": [
      "Parameter containing:\n",
      "tensor([[[-1.,  1.]]], requires_grad=True)\n",
      "torch.Size([1, 6]) tensor([[2., 4., 1., 8., 2., 3.]])\n",
      "tensor([[ 2., -3.,  7., -6.,  1.]], grad_fn=<SqueezeBackward1>)\n"
     ]
    }
   ],
   "source": [
    "conv_1 = nn.Conv1d(1, 1, kernel_size=2, stride=1, padding=0, bias=False)\n",
    "print(conv_1.weight.shape)\n",
    "conv_1.weight = torch.nn.Parameter(torch.Tensor([[[-1, 1]]]))\n",
    "\n",
    "s = torch.Tensor([2,4,1,8,2,3])\n",
    "s = torch.reshape(s, [1, -1])\n",
    "\n",
    "print(conv_1.weight)\n",
    "print(s.shape, s)\n",
    "# print(conv_1(torch.ones([1, 4])))\n",
    "print(conv_1(s))"
   ],
   "metadata": {
    "collapsed": false,
    "ExecuteTime": {
     "end_time": "2024-03-12T16:58:57.623199Z",
     "start_time": "2024-03-12T16:58:57.618096Z"
    }
   },
   "id": "2a7ad5fa6a160f75",
   "execution_count": 112
  },
  {
   "cell_type": "markdown",
   "source": [
    "### Number 2"
   ],
   "metadata": {
    "collapsed": false
   },
   "id": "d6326bcc7da2b35a"
  },
  {
   "cell_type": "code",
   "outputs": [
    {
     "name": "stdout",
     "output_type": "stream",
     "text": [
      "torch.Size([1, 1, 2, 2])\n",
      "Parameter containing:\n",
      "tensor([[[[ 1.,  0.],\n",
      "          [ 1., -1.]]]], requires_grad=True)\n",
      "torch.Size([1, 3, 3]) tensor([[[3., 2., 3.],\n",
      "         [0., 1., 2.],\n",
      "         [1., 3., 2.]]])\n",
      "tensor([[[ 2.,  1.],\n",
      "         [-2.,  2.]]], grad_fn=<SqueezeBackward1>)\n"
     ]
    }
   ],
   "source": [
    "X = np.array([\n",
    "    [3, 2, 3],\n",
    "    [0, 1, 2],\n",
    "    [1, 3, 2],\n",
    "])\n",
    "\n",
    "weight = np.array([\n",
    "    [1, 0],\n",
    "    [1, -1]\n",
    "])\n",
    "\n",
    "conv_2 = nn.Conv2d(1, 1, kernel_size=2, stride=1, padding=0, bias=False)\n",
    "print(conv_2.weight.shape)\n",
    "conv_2.weight = torch.nn.Parameter(torch.Tensor(np.reshape(weight, [1, 1, 2, 2])))\n",
    "\n",
    "X = torch.reshape(torch.Tensor(X), (1, 3, 3))\n",
    "\n",
    "print(conv_2.weight)\n",
    "print(X.shape, X)\n",
    "# print(conv_1(torch.ones([1, 4])))\n",
    "print(conv_2(X))"
   ],
   "metadata": {
    "collapsed": false,
    "ExecuteTime": {
     "end_time": "2024-03-12T17:04:59.810130Z",
     "start_time": "2024-03-12T17:04:59.803872Z"
    }
   },
   "id": "a5f493d19e320eff",
   "execution_count": 115
  },
  {
   "cell_type": "markdown",
   "source": [
    "### Number 7"
   ],
   "metadata": {
    "collapsed": false
   },
   "id": "ff624ff73cbb4b28"
  },
  {
   "cell_type": "code",
   "outputs": [
    {
     "name": "stdout",
     "output_type": "stream",
     "text": [
      "torch.Size([1, 4, 4])\n",
      "torch.Size([1, 6, 6])\n"
     ]
    }
   ],
   "source": [
    "X = torch.Tensor(np.array([\n",
    "    [2, 3, 2, 4], \n",
    "    [6, 5, 5, 1], \n",
    "    [8, 9, 3, 4], \n",
    "    [7, 2, 1, 8], \n",
    "]).reshape(1, 4, 4))\n",
    "\n",
    "pool_7 = nn.AvgPool2d(kernel_size=2, stride=2)\n",
    "conv_3 = nn.Conv2d(1, 1, kernel_size=3, stride=1, padding=2, bias=False)\n",
    "\n",
    "# print(pool_7(X))\n",
    "# print(4*3*4*6.5)\n",
    "print(X.shape)\n",
    "print(conv_3(X).shape)"
   ],
   "metadata": {
    "collapsed": false,
    "ExecuteTime": {
     "end_time": "2024-03-12T17:13:36.926055Z",
     "start_time": "2024-03-12T17:13:36.921661Z"
    }
   },
   "id": "9fad9438a5c2068c",
   "execution_count": 121
  },
  {
   "cell_type": "code",
   "outputs": [
    {
     "name": "stdout",
     "output_type": "stream",
     "text": [
      "Before conv: torch.Size([1, 4, 4])\n",
      "After conv:  torch.Size([1, 6, 6])\n",
      "tensor([[[ 0.2806,  0.8159,  0.8442,  0.9129,  0.7610, -0.0577],\n",
      "         [ 0.3669,  1.1807,  0.6942, -0.5526, -0.3046, -0.9009],\n",
      "         [-0.9146,  0.3617, -1.2771, -1.4064, -0.8030,  0.4119],\n",
      "         [-2.7543, -3.1639, -3.5029, -2.0735,  1.5803, -0.8291],\n",
      "         [-4.1113, -4.7876, -3.0966, -2.6018, -0.4670, -1.0818],\n",
      "         [-2.1428, -1.9956,  0.5083, -2.3009, -1.4082,  1.3825]]],\n",
      "       grad_fn=<SqueezeBackward1>)\n"
     ]
    }
   ],
   "source": [
    "X = torch.Tensor(np.array([\n",
    "    [2, 3, 2, 4], \n",
    "    [6, 5, 5, 1], \n",
    "    [8, 9, 3, 4], \n",
    "    [7, 2, 1, 8], \n",
    "]).reshape(1, 4, 4))\n",
    "\n",
    "conv_layer = nn.Conv2d(1, 1, kernel_size=3, stride=1, padding=2, bias=False)\n",
    "\n",
    "print(\"Before conv:\", X.shape)\n",
    "print(\"After conv: \", conv_layer(X).shape)\n",
    "print(conv_layer(X))"
   ],
   "metadata": {
    "collapsed": false,
    "ExecuteTime": {
     "end_time": "2024-03-12T17:27:23.134294Z",
     "start_time": "2024-03-12T17:27:23.128788Z"
    }
   },
   "id": "56b3a42ee448baf5",
   "execution_count": 125
  }
 ],
 "metadata": {
  "kernelspec": {
   "display_name": "Python 3",
   "language": "python",
   "name": "python3"
  },
  "language_info": {
   "codemirror_mode": {
    "name": "ipython",
    "version": 2
   },
   "file_extension": ".py",
   "mimetype": "text/x-python",
   "name": "python",
   "nbconvert_exporter": "python",
   "pygments_lexer": "ipython2",
   "version": "2.7.6"
  }
 },
 "nbformat": 4,
 "nbformat_minor": 5
}
