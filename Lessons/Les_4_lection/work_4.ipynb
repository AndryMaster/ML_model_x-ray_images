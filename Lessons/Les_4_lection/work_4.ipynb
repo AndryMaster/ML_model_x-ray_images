{
 "cells": [
  {
   "cell_type": "markdown",
   "source": [
    "# Homework"
   ],
   "metadata": {
    "collapsed": false
   },
   "id": "dfd077145cbdcb9e"
  },
  {
   "cell_type": "code",
   "execution_count": 1,
   "id": "initial_id",
   "metadata": {
    "collapsed": true,
    "ExecuteTime": {
     "end_time": "2024-03-08T07:36:39.916078Z",
     "start_time": "2024-03-08T07:36:35.585645Z"
    }
   },
   "outputs": [],
   "source": [
    "import numpy as np\n",
    "import sklearn\n",
    "import sympy\n",
    "\n",
    "# import tensorflow\n",
    "# import keras"
   ]
  },
  {
   "cell_type": "markdown",
   "source": [
    "## 1-4 Diff gradient function"
   ],
   "metadata": {
    "collapsed": false
   },
   "id": "5727960ad6c4963c"
  },
  {
   "cell_type": "code",
   "outputs": [
    {
     "name": "stdout",
     "output_type": "stream",
     "text": [
      "Diff x: 39*x**2 - 7*y\n",
      "Diff y: -7*x + 6*y**2 + 2*y\n",
      "Old loss: -78.000\tx=1.000 y=2.000\n",
      "New loss: -82.697\tx_new=0.875 y_new=1.895\n",
      "X grad: 25.000\tY grad: 21.000\tGamma: 0.005 -> 0.005\n",
      "Old loss: -82.697\tx=0.875 y=1.895\n",
      "New loss: -85.582\tx_new=0.794 y_new=1.801\n",
      "X grad: 16.594\tY grad: 19.211\tGamma: 0.005 -> 0.005\n",
      "Old loss: -85.582\tx=0.794 y=1.801\n",
      "New loss: -87.592\tx_new=0.736 y_new=1.717\n",
      "X grad: 11.962\tY grad: 17.505\tGamma: 0.005 -> 0.005\n",
      "Old loss: -87.592\tx=0.736 y=1.717\n",
      "New loss: -89.091\tx_new=0.693 y_new=1.642\n",
      "X grad: 9.123\tY grad: 15.964\tGamma: 0.005 -> 0.005\n",
      "Old loss: -89.091\tx=0.693 y=1.642\n",
      "New loss: -90.254\tx_new=0.660 y_new=1.574\n",
      "X grad: 7.255\tY grad: 14.601\tGamma: 0.005 -> 0.005\n",
      "Old loss: -90.254\tx=0.660 y=1.574\n",
      "New loss: -91.181\tx_new=0.633 y_new=1.514\n",
      "X grad: 5.961\tY grad: 13.401\tGamma: 0.005 -> 0.004\n",
      "Old loss: -91.181\tx=0.633 y=1.514\n",
      "New loss: -91.935\tx_new=0.611 y_new=1.459\n",
      "X grad: 5.026\tY grad: 12.346\tGamma: 0.004 -> 0.004\n",
      "Old loss: -91.935\tx=0.611 y=1.459\n",
      "New loss: -92.557\tx_new=0.592 y_new=1.410\n",
      "X grad: 4.329\tY grad: 11.417\tGamma: 0.004 -> 0.004\n",
      "Old loss: -92.557\tx=0.592 y=1.410\n",
      "New loss: -93.076\tx_new=0.576 y_new=1.364\n",
      "X grad: 3.795\tY grad: 10.597\tGamma: 0.004 -> 0.004\n",
      "Old loss: -93.076\tx=0.576 y=1.364\n",
      "New loss: -93.514\tx_new=0.562 y_new=1.323\n",
      "X grad: 3.375\tY grad: 9.869\tGamma: 0.004 -> 0.004\n"
     ]
    }
   ],
   "source": [
    "x, y = sympy.symbols('x y')  \n",
    "# Z = 13*x**3 - 7*x*y + y**2 + 2*y**3 - 97\n",
    "print(\"Diff x:\", xg := sympy.diff('13*x**3 - 7*x*y + y**2 + 2*y**3 - 97', x))\n",
    "print(\"Diff y:\", yg := sympy.diff('13*x**3 - 7*x*y + y**2 + 2*y**3 - 97', y))\n",
    "\n",
    "gamma = .005\n",
    "\n",
    "\n",
    "def func(x_, y_):\n",
    "    return 13*x_**3 - 7*x_*y_ + y_**2 + 2*y_**3 - 97\n",
    "\n",
    "def grad(x_, y_):\n",
    "    return 39*x_**2 - 7*y_, -7*x_ + 6*y_**2 + 2*y_\n",
    "\n",
    "def step():\n",
    "    global x, y, gamma\n",
    "    old_loss = func(x, y)\n",
    "    x_step, y_step = grad(x, y)\n",
    "    x_new = x - x_step * gamma\n",
    "    y_new = y - y_step * gamma\n",
    "    new_gamma = gamma * 0.98\n",
    "    print(f\"\\nOld loss: {old_loss:.3f}\\n{x=:.3f} {y=:.3f}\\nNew loss: {func(x_new, y_new):.3f}\\n{x_new=:.3f} {y_new=:.3f}\\n\"\n",
    "          f\"X grad: {x_step:.3f}\\tY grad: {y_step:.3f}\\tGamma: {gamma:.3f} -> {new_gamma:.3f}\\n\")\n",
    "    x, y, gamma = x_new, y_new, new_gamma\n",
    "    return x_step, y_step\n",
    "\n",
    "\n",
    "x, y = 1, 2  \n",
    "\n",
    "for i in range(10):\n",
    "    step()"
   ],
   "metadata": {
    "collapsed": false,
    "ExecuteTime": {
     "end_time": "2024-02-29T12:53:52.960462Z",
     "start_time": "2024-02-29T12:53:52.952360Z"
    }
   },
   "id": "8f59c344ca10ea17",
   "execution_count": 6
  },
  {
   "cell_type": "markdown",
   "source": [
    "## 8 Gradient"
   ],
   "metadata": {
    "collapsed": false
   },
   "id": "584a07e3923e6583"
  },
  {
   "cell_type": "code",
   "outputs": [
    {
     "name": "stdout",
     "output_type": "stream",
     "text": [
      "1.0 2.5\n",
      "[2 0 2 0] [6 0 4 0]\n",
      "6 [12  0  8  4] [-16  -6 -12 -10]\n",
      "[18  0 12  6] [36  0 16  4] [-48   0 -24 -10]\n"
     ]
    }
   ],
   "source": [
    "x = np.array([3, 0, 2, 1])\n",
    "y = np.array([8, 3, 6, 5])\n",
    "w0, w1 = 3, np.array([2])   # y = 2x + 3\n",
    "\n",
    "# a = 0.03\n",
    "# w0_, w1_ = (np.mean(2*w0 + 2*w1*x - 2*y), np.mean(2*w0*x + 2*w1*x**2 - 2*x*y))\n",
    "# print(w0_, w1_)\n",
    "# w0, w1 = w0 - w0_ * a, w1 - w1_ * a\n",
    "# \n",
    "# w0_, w1_ = (np.mean(2*w0 + 2*w1*x - 2*y), np.mean(2*w0*x + 2*w1*x**2 - 2*x*y))\n",
    "# print(w0_, w1_)\n",
    "# w0, w1 = w0 - w0_ * a, w1 - w1_ * a\n",
    "# \n",
    "# w0_, w1_ = (np.mean(2*w0 + 2*w1*x - 2*y), np.mean(2*w0*x + 2*w1*x**2 - 2*x*y))\n",
    "# print(w0_, w1_)\n",
    "# w0, w1 = w0 - w0_ * a, w1 - w1_ * a\n",
    "# \n",
    "# w0_, w1_ = (np.mean(2*w0 + 2*w1*x - 2*y), np.mean(2*w0*x + 2*w1*x**2 - 2*x*y))\n",
    "# print(w0_, w1_)\n",
    "# w0, w1 = w0 - w0_ * a, w1 - w1_ * a\n",
    "\n",
    "print(np.mean(2*w0 + 2*w1*x - 2*y), np.mean(2*w0*x + 2*w1*x**2 - 2*x*y))\n",
    "print(2*w0 + 2*w1*x - 2*y, 2*w0*x + 2*w1*x**2 - 2*x*y)\n",
    "print(2*w0, 2*w1*x, -2*y)\n",
    "print(2*w0*x, 2*w1*x**2, -2*x*y)"
   ],
   "metadata": {
    "collapsed": false,
    "ExecuteTime": {
     "end_time": "2024-02-27T14:00:01.054511400Z",
     "start_time": "2024-02-27T14:00:01.048507200Z"
    }
   },
   "id": "adac26be59715f9c",
   "execution_count": 23
  },
  {
   "cell_type": "code",
   "outputs": [],
   "source": [],
   "metadata": {
    "collapsed": false
   },
   "id": "2fcea7a98dde929a"
  }
 ],
 "metadata": {
  "kernelspec": {
   "display_name": "Python 3",
   "language": "python",
   "name": "python3"
  },
  "language_info": {
   "codemirror_mode": {
    "name": "ipython",
    "version": 2
   },
   "file_extension": ".py",
   "mimetype": "text/x-python",
   "name": "python",
   "nbconvert_exporter": "python",
   "pygments_lexer": "ipython2",
   "version": "2.7.6"
  }
 },
 "nbformat": 4,
 "nbformat_minor": 5
}
